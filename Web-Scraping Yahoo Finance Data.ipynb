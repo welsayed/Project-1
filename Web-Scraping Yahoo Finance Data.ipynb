{
  "nbformat": 4,
  "nbformat_minor": 0,
  "metadata": {
    "colab": {
      "name": "Exploring Financial Data with Yahoo_fin.ipynb",
      "provenance": [],
      "collapsed_sections": [],
      "authorship_tag": "ABX9TyOJ4weYkFquGIAju+QGhxjK"
    },
    "kernelspec": {
      "name": "python3",
      "display_name": "Python 3"
    }
  },
  "cells": [
    {
      "cell_type": "markdown",
      "metadata": {
        "id": "rbYrnJRTXW8P"
      },
      "source": [
        "Analyzing Financial Data Using the Yahoo_fin Package"
      ]
    },
    {
      "cell_type": "code",
      "metadata": {
        "id": "xoajTARycJO-"
      },
      "source": [
        "!pip install yahoo_fin\n",
        "!pip install request_html"
      ],
      "execution_count": null,
      "outputs": []
    },
    {
      "cell_type": "markdown",
      "metadata": {
        "id": "J7wClqhyYk6d"
      },
      "source": [
        "To begin, install the necessary packages using the '!pip install' command."
      ]
    },
    {
      "cell_type": "markdown",
      "metadata": {
        "id": "dMxf75aaYu9m"
      },
      "source": [
        "After installing the required packages, import the libraries needed for further data analysis."
      ]
    },
    {
      "cell_type": "code",
      "metadata": {
        "id": "1mJushqFV4RY"
      },
      "source": [
        "from yahoo_fin import stock_info as si\n",
        "import pandas as pd\n",
        "import numpy as np\n",
        "from datetime import datetime\n"
      ],
      "execution_count": null,
      "outputs": []
    },
    {
      "cell_type": "code",
      "metadata": {
        "id": "SQW1L_lv1YxZ"
      },
        "source": [
        "# Defining Functions for Data Extraction "
      ],
      "execution_count": null,
      "outputs": []
    },
    {
      "cell_type": "code",
      "metadata": {
        "id": "a54ooJyFDocC"
      },
      "source": [
        "# Function to Fetch Historical Data\n",
        "\n",
        "def fetch_historical_data(ticker):\n",
        "  historical_data = si.get_data(ticker, start_date='1-1-2010', end_date=None, index_as_date=True, interval='1mo')\n",
        "  print(historical_data)"
      ],
      "execution_count": 4,
      "outputs": []
    },
    {
      "cell_type": "markdown",
      "metadata": {
        "id": "li0-p7fGY8D2"
      },
      "source": [
        "After installing the libraries, create a function called 'fetch_historical_data.' This function utilizes the yahoo_fin package to retrieve real-time stock prices, additional stock information, and valuations. You can explore more functions within the package for further data extraction."
      ]
    },
    {
      "cell_type": "code",
      "metadata": {
        "id": "StBJWRDFXVKx"
      },
      "source": [
        "# Function to Retrieve Stock Information\n",
        "\n",
        "def fetch_stock_info(ticker):\n",
        " info = si.get_analysts_info(ticker)\n",
        " val = si.get_stats_valuation(ticker)\n",
        " live_price = si.get_live_price(ticker)\n",
        " return(live_price,val,info)"
      ],
      "execution_count": 3,
      "outputs": []
    },
    {
      "cell_type": "markdown",
      "metadata": {
        "id": "YCHb4mQlZXb7"
      },
      "source": [
        "Define another function, 'fetch_stock_info,' which retrieves real-time data such as analysts' information, valuation, and live stock prices."
      ]
    },
    {
      "cell_type": "code",
      "metadata": {
        "id": "mptjpqLH0aWc"
      },
      "source": [
        "# Function to Extract Financial Statements\n",
        "\n",
        "def fetch_financial_statements(ticker):\n",
        "  balance_sheet = si.get_balance_sheet(ticker)\n",
        "  cash_flow = si.get_cash_flow(ticker)\n",
        "  income_statement = si.get_income_statement(ticker)\n",
        "\n",
        "  return(balance_sheet, cash_flow, income_statement)\n",
        "\n"
      ],
      "execution_count": 12,
      "outputs": []
    },
    {
      "cell_type": "code",
      "metadata": {
        "id": "Ue_HQmjJ00I-"
      },
      "source": [
        "# Main Function to Output Results\n",
        "\n",
        "def main(ticker):\n",
        "  historical_data = fetch_historical_data(ticker)\n",
        "  stock_info = fetch_stock_info(ticker)\n",
        "  financial_statements = fetch_financial_statements(ticker)\n",
        "\n",
        "  return(historical_data, stock_info, financial_statements)\n"
      ],
      "execution_count": 13,
      "outputs": []
    },
    {
      "cell_type": "code",
      "metadata": {
        "id": "0UBsg7KC1AE8"
      },
      "source": [
        "main('TSLA')"
      ],
      "execution_count": null,
      "outputs": []
    }
  ]
}
